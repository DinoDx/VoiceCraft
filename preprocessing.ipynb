{
  "nbformat": 4,
  "nbformat_minor": 0,
  "metadata": {
    "colab": {
      "provenance": [],
      "authorship_tag": "ABX9TyNiOKV6MzHNsoh2FSAsY63S",
      "include_colab_link": true
    },
    "kernelspec": {
      "name": "python3",
      "display_name": "Python 3"
    },
    "language_info": {
      "name": "python"
    }
  },
  "cells": [
    {
      "cell_type": "markdown",
      "metadata": {
        "id": "view-in-github",
        "colab_type": "text"
      },
      "source": [
        "<a href=\"https://colab.research.google.com/github/DinoDx/VoiceCraft/blob/main/preprocessing.ipynb\" target=\"_parent\"><img src=\"https://colab.research.google.com/assets/colab-badge.svg\" alt=\"Open In Colab\"/></a>"
      ]
    },
    {
      "cell_type": "code",
      "execution_count": null,
      "metadata": {
        "colab": {
          "base_uri": "https://localhost:8080/"
        },
        "id": "Q3UlcCWJ69zh",
        "outputId": "b897217c-6915-4385-e2a2-183c0b23ae97"
      },
      "outputs": [
        {
          "output_type": "stream",
          "name": "stdout",
          "text": [
            "Mounted at /content/drive\n"
          ]
        }
      ],
      "source": [
        "import os\n",
        "import wave\n",
        "from google.colab import drive\n",
        "\n",
        "def extract_first_two_seconds(input_file, output_file):\n",
        "    # Apri il file di input .wav\n",
        "    with wave.open(input_file, 'rb') as wav_file:\n",
        "        # Ottieni i parametri del file .wav\n",
        "        params = wav_file.getparams()\n",
        "        sample_width = params.sampwidth\n",
        "        sample_rate = params.framerate\n",
        "        num_frames = int(sample_rate*1)  # Calcola il numero di frame corrispondenti a n secondi\n",
        "        frames = wav_file.readframes(num_frames)  # Estrai i primi due secondi\n",
        "\n",
        "    # Crea un nuovo file .wav con i primi due secondi estratti\n",
        "    with wave.open(output_file, 'wb') as wav_file:\n",
        "        wav_file.setparams(params)\n",
        "        wav_file.writeframes(frames)\n",
        "\n",
        "def merge_wav_files(input_folder, output_folder):\n",
        "    # Crea una lista vuota per contenere i frame dei file .wav\n",
        "    frames = []\n",
        "\n",
        "    # Monta Google Drive\n",
        "    drive.mount('/content/drive', force_remount=True)\n",
        "\n",
        "    # Ottieni tutti i file .wav nella cartella di input su Google Drive\n",
        "    input_folder_path = os.path.join('/content/drive/My Drive', input_folder)\n",
        "    input_files = os.listdir(input_folder_path)\n",
        "\n",
        "    # Itera sui file di input e ottieni i frame dei primi due secondi\n",
        "    for input_file in input_files:\n",
        "        input_file_path = os.path.join(input_folder_path, input_file)\n",
        "\n",
        "        # Genera un nome unico per il file temporaneo\n",
        "        temp_output_file = '/content/temp.wav'\n",
        "\n",
        "        # Estrai i primi due secondi del file e salvali come temporaneo\n",
        "        extract_first_two_seconds(input_file_path, temp_output_file)\n",
        "\n",
        "        # Apri il file temporaneo\n",
        "        with wave.open(temp_output_file, 'rb') as wav_file:\n",
        "            # Ottieni i frame del file temporaneo e aggiungili alla lista\n",
        "            temp_frames = wav_file.readframes(wav_file.getnframes())\n",
        "            frames.append(temp_frames)\n",
        "\n",
        "        # Elimina il file temporaneo\n",
        "        os.remove(temp_output_file)\n",
        "\n",
        "    # Crea un nuovo file .wav con i frame uniti nella cartella di output su Google Drive\n",
        "    output_folder_path = os.path.join('/content/drive/My Drive', output_folder)\n",
        "    os.makedirs(output_folder_path, exist_ok=True)\n",
        "    output_file_path = os.path.join(output_folder_path, 'voice.wav')\n",
        "    with wave.open(output_file_path, 'wb') as wav_file:\n",
        "        wav_file.setnchannels(1)  # Imposta il numero di canali (mono)\n",
        "        wav_file.setsampwidth(2)  # Imposta la larghezza del campione in byte\n",
        "        wav_file.setframerate(16000)  # Imposta il framerate\n",
        "        for frame in frames:\n",
        "            wav_file.writeframes(frame)\n",
        "\n",
        "# ID della cartella di input su Google Drive\n",
        "input_folder_id = '/content/drive/MyDrive/voice'\n",
        "\n",
        "# ID della cartella di output su Google Drive\n",
        "output_folder_id = '/content/drive/MyDrive/merged_audio'\n",
        "\n",
        "# Unisci i file .wav di input nella cartella di output su Google Drive\n",
        "merge_wav_files(input_folder_id, output_folder_id)\n"
      ]
    }
  ]
}